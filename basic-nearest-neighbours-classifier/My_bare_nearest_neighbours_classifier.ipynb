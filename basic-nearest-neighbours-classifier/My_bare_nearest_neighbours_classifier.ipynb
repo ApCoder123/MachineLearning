{
 "cells": [
  {
   "cell_type": "markdown",
   "metadata": {},
   "source": [
    "### Writing a (very) Basic Nearest Neighbours Classifier"
   ]
  },
  {
   "cell_type": "code",
   "execution_count": 7,
   "metadata": {},
   "outputs": [
    {
     "name": "stdout",
     "output_type": "stream",
     "text": [
      "Accuracy =  0.973333333333\n"
     ]
    }
   ],
   "source": [
    "#Basic Nearest Neighbours Classifier\n",
    "import random\n",
    "from scipy.spatial import distance\n",
    "\n",
    "#Function to find distance between two points on a graph\n",
    "def euc(a,b):\n",
    "    return distance.euclidean(a, b)\n",
    "\n",
    "\n",
    "class BasicNN():\n",
    "    \n",
    "    #creating the fit method\n",
    "    def fit(self, x_train, y_train):\n",
    "        \n",
    "        #making the data accessible to the data and labels available to the class\n",
    "        self.x_train = x_train\n",
    "        self.y_train = y_train\n",
    "        \n",
    "    #creating the predict method\n",
    "    def predict(self, x_test):\n",
    "        predictions = []\n",
    "        #looping over the data to be labeled to classify\n",
    "        for row in x_test:\n",
    "            label = self.closest(row)\n",
    "            predictions.append(label)\n",
    "\n",
    "        return predictions\n",
    "    \n",
    "    #creating the method to find the closest data point \n",
    "    def closest(self, row):\n",
    "        #variables for the best distance and index it is at\n",
    "        best_dist = euc(row, self.x_train[0])\n",
    "        best_index = 0\n",
    "        \n",
    "        #looping through all data in the training sets\n",
    "        for i in range(1, len(self.x_train)):\n",
    "            #distance between point trying to be labeled and data points in training data\n",
    "            dist = euc(row, self.x_train[i])\n",
    "            #if the distance is better than the current best distance then replace it\n",
    "            if dist < best_dist:\n",
    "                best_dist = dist\n",
    "                best_index = i\n",
    "        #return the label of the best index\n",
    "        return self.y_train[best_index]\n",
    "\n",
    "\n",
    "### Testing the Classifier ###\n",
    "\n",
    "from sklearn.datasets import load_iris\n",
    "\n",
    "# load the iris dataset in\n",
    "iris = load_iris()\n",
    "x = iris.data\n",
    "y = iris.target\n",
    "\n",
    "# Splitting the dataset in half so that one half can train the classifier and the other to test\n",
    "from sklearn.cross_validation import train_test_split\n",
    "x_train, x_test, y_train, y_test = train_test_split(x, y, test_size=0.5)\n",
    "\n",
    "# creating the classifier\n",
    "my_classifier = BasicNN()\n",
    "\n",
    "# Provide the classifier with the training data\n",
    "my_classifier.fit(x_train, y_train)\n",
    "\n",
    "# Getting the Classifier to predict the half of data we took away\n",
    "predictions = my_classifier.predict(x_test)\n",
    "\n",
    "# Checking accuracy by comparing the predictions to the real data\n",
    "from sklearn.metrics import accuracy_score\n",
    "\n",
    "print \"Accuracy = \", accuracy_score(y_test, predictions)"
   ]
  }
 ],
 "metadata": {
  "kernelspec": {
   "display_name": "Python 2",
   "language": "python",
   "name": "python2"
  },
  "language_info": {
   "codemirror_mode": {
    "name": "ipython",
    "version": 2
   },
   "file_extension": ".py",
   "mimetype": "text/x-python",
   "name": "python",
   "nbconvert_exporter": "python",
   "pygments_lexer": "ipython2",
   "version": "2.7.13"
  }
 },
 "nbformat": 4,
 "nbformat_minor": 2
}
